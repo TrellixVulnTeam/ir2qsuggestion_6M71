{
 "cells": [
  {
   "cell_type": "code",
   "execution_count": null,
   "metadata": {
    "collapsed": true
   },
   "outputs": [],
   "source": [
    "import random\n",
    "from itertools import izip\n",
    "import numpy as np\n",
    "from pprint import pprint\n",
    "import features.adj as ad"
   ]
  },
  {
   "cell_type": "code",
   "execution_count": null,
   "metadata": {},
   "outputs": [],
   "source": [
    "def mmr(indexes, ranks):\n",
    "    return np.mean([1 / (r[i] + 1.0) for i, r in izip(indexes, ranks)])\n",
    "\n",
    "\n",
    "def mmr2(indexes, ranks):\n",
    "    return np.mean([1 / float(r[i] + 1) for i, r in izip(indexes, ranks)])"
   ]
  },
  {
   "cell_type": "code",
   "execution_count": 3,
   "metadata": {},
   "outputs": [
    {
     "name": "stdout",
     "output_type": "stream",
     "text": [
      "loading adj\nlocating sessions ../preprocessed-data/tr_session\n"
     ]
    },
    {
     "name": "stdout",
     "output_type": "stream",
     "text": [
      "sessions loaded 612253\n"
     ]
    },
    {
     "name": "stdout",
     "output_type": "stream",
     "text": [
      "[17-12 11:03:40: Loading bg_info.pkl...]\n"
     ]
    },
    {
     "name": "stdout",
     "output_type": "stream",
     "text": [
      "[17-12 11:06:08: Loaded 5091124 sessions...]\nloaded\n"
     ]
    }
   ],
   "source": [
    "print \"loading adj\"\n",
    "# adj = ad.ADJ(train_sessions_file=\"../preprocessed-data/tr_session\", bg_sessions_file=\"../preprocessed-data/bg_session\")\n",
    "adj = ad.ADJ(load_bg=True, train_sessions_file=\"../preprocessed-data/tr_session\", bg_sessions_file=\"\")\n",
    "print \"loaded\""
   ]
  },
  {
   "cell_type": "code",
   "execution_count": 4,
   "metadata": {},
   "outputs": [
    {
     "name": "stdout",
     "output_type": "stream",
     "text": [
      "{'absfreq': [8975, 477, 420, 295, 285, 266, 206, 202, 139, 136, 115, 105, 97, 90, 83, 79, 76, 60, 54, 53], 'relfreq': [0.7348726766560223, 0.039056742815033164, 0.03438958486858266, 0.024154589371980676, 0.023335789732252518, 0.021780070416769017, 0.016867272578400067, 0.0165397527225088, 0.011381314992221404, 0.011135675100302956, 0.009416195856873822, 0.008597396217145665, 0.007942356505363138, 0.007369196757553427, 0.006796037009743716, 0.0064685171538524525, 0.006222877261934005, 0.0049127978383689515, 0.004421518054532056, 0.0043396380905592405], 'adj_queries': ['yahoo com', 'www yahoo com', 'yahoo', 'google com', 'myspace com', ' ', 'hotmail com', 'google', 'free slots com', 'msn com', 'pogo com', 'myspace', 'hotmatchup com', 'ebay com', 'singlenet com', 'yahoo mail', 'yahoomail com', 'blackplanet com', 'ebay', 'imatchup com']}\n"
     ]
    }
   ],
   "source": [
    "print adj.adj_function(\"yahoo com\")"
   ]
  },
  {
   "cell_type": "code",
   "execution_count": 6,
   "metadata": {},
   "outputs": [
    {
     "name": "stdout",
     "output_type": "stream",
     "text": [
      "finding sessions\n[17-12 11:08:05: Loading sessions...]\n"
     ]
    },
    {
     "name": "stdout",
     "output_type": "stream",
     "text": [
      "[17-12 11:08:06: Loaded 56344 sessions...]\nfound\n"
     ]
    }
   ],
   "source": [
    "print \"finding sessions\"\n",
    "sessions = adj.find_suitable_sessions(\"../data/my_sessions.pkl\")\n",
    "print \"found\""
   ]
  },
  {
   "cell_type": "code",
   "execution_count": 18,
   "metadata": {},
   "outputs": [],
   "source": [
    "indexes = []\n",
    "for session in sessions:\n",
    "    anchor = session[-2]\n",
    "    target = session[-1]\n",
    "    result = adj.adj_function(anchor_query=anchor)\n",
    "    try:\n",
    "        indexes.append(result['adj_queries'].index(anchor))\n",
    "    except:\n",
    "        indexes.append(19)"
   ]
  },
  {
   "cell_type": "code",
   "execution_count": 19,
   "metadata": {},
   "outputs": [
    {
     "name": "stdout",
     "output_type": "stream",
     "text": [
      "0.957475647519\n"
     ]
    }
   ],
   "source": [
    "rankings = [x + 0 for x in [np.arange(20) for _ in range(len(indexes))]]\n",
    "print mmr(indexes, rankings)"
   ]
  },
  {
   "cell_type": "code",
   "execution_count": 20,
   "metadata": {},
   "outputs": [],
   "source": [
    ""
   ]
  },
  {
   "cell_type": "code",
   "execution_count": null,
   "outputs": [],
   "source": [
    ""
   ]
  }
 ],
 "metadata": {
  "kernelspec": {
   "display_name": "Python 2",
   "language": "python",
   "name": "python2"
  },
  "language_info": {
   "codemirror_mode": {
    "name": "ipython",
    "version": 2.0
   },
   "file_extension": ".py",
   "mimetype": "text/x-python",
   "name": "python",
   "nbconvert_exporter": "python",
   "pygments_lexer": "ipython2",
   "version": "2.7.6"
  }
 },
 "nbformat": 4,
 "nbformat_minor": 0
}